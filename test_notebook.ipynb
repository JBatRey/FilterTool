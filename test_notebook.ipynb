{
 "cells": [
  {
   "cell_type": "code",
   "execution_count": 2,
   "metadata": {},
   "outputs": [
    {
     "ename": "TypeError",
     "evalue": "unsupported operand type(s) for *: 'int' and 'module'",
     "output_type": "error",
     "traceback": [
      "\u001b[1;31m---------------------------------------------------------------------------\u001b[0m",
      "\u001b[1;31mTypeError\u001b[0m                                 Traceback (most recent call last)",
      "\u001b[1;32mc:\\Users\\joaco\\Documents\\FilterTool\\test_notebook.ipynb Cell 1\u001b[0m in \u001b[0;36m<cell line: 45>\u001b[1;34m()\u001b[0m\n\u001b[0;32m     <a href='vscode-notebook-cell:/c%3A/Users/joaco/Documents/FilterTool/test_notebook.ipynb#ch0000000?line=42'>43</a>\u001b[0m \u001b[39mfilter\u001b[39m \u001b[39m=\u001b[39m \u001b[39m'\u001b[39m\u001b[39mcheby2\u001b[39m\u001b[39m'\u001b[39m\n\u001b[0;32m     <a href='vscode-notebook-cell:/c%3A/Users/joaco/Documents/FilterTool/test_notebook.ipynb#ch0000000?line=43'>44</a>\u001b[0m filter_type \u001b[39m=\u001b[39m \u001b[39m'\u001b[39m\u001b[39mbandstop\u001b[39m\u001b[39m'\u001b[39m\n\u001b[1;32m---> <a href='vscode-notebook-cell:/c%3A/Users/joaco/Documents/FilterTool/test_notebook.ipynb#ch0000000?line=44'>45</a>\u001b[0m Wpass \u001b[39m=\u001b[39m [\u001b[39m2\u001b[39;49m\u001b[39m*\u001b[39;49mnp\u001b[39m*\u001b[39mpi\u001b[39m*\u001b[39m(\u001b[39m37e3\u001b[39m\u001b[39m-\u001b[39m\u001b[39m5e3\u001b[39m),\u001b[39m2\u001b[39m\u001b[39m*\u001b[39mnp\u001b[39m*\u001b[39mpi\u001b[39m*\u001b[39m(\u001b[39m37e3\u001b[39m\u001b[39m+\u001b[39m\u001b[39m5e3\u001b[39m)]\n\u001b[0;32m     <a href='vscode-notebook-cell:/c%3A/Users/joaco/Documents/FilterTool/test_notebook.ipynb#ch0000000?line=45'>46</a>\u001b[0m Watt \u001b[39m=\u001b[39m [\u001b[39m2\u001b[39m\u001b[39m*\u001b[39mnp\u001b[39m*\u001b[39mpi\u001b[39m*\u001b[39m(\u001b[39m37e3\u001b[39m\u001b[39m-\u001b[39m\u001b[39m300\u001b[39m),\u001b[39m2\u001b[39m\u001b[39m*\u001b[39mnp\u001b[39m*\u001b[39mpi\u001b[39m*\u001b[39m(\u001b[39m37e3\u001b[39m\u001b[39m+\u001b[39m\u001b[39m300\u001b[39m)]\n\u001b[0;32m     <a href='vscode-notebook-cell:/c%3A/Users/joaco/Documents/FilterTool/test_notebook.ipynb#ch0000000?line=46'>47</a>\u001b[0m Gp \u001b[39m=\u001b[39m \u001b[39m-\u001b[39m\u001b[39m6\u001b[39m\n",
      "\u001b[1;31mTypeError\u001b[0m: unsupported operand type(s) for *: 'int' and 'module'"
     ]
    }
   ],
   "source": [
    "from cmath import pi\n",
    "from backend import *\n",
    "import numpy as np\n",
    "\n",
    "\"\"\" \n",
    "\n",
    "    Tipos de filtro:\n",
    "    \n",
    "    'butter'\n",
    "    'cheby'\n",
    "    'cheby2'\n",
    "    'cauer'\n",
    "\"\"\"\n",
    "\n",
    "\"\"\"\n",
    "filter = 'cheby2'\n",
    "filter_type = 'lowpass'\n",
    "Wpass = 150\n",
    "Watt = 300\n",
    "Gp = -3\n",
    "Ga = -50\n",
    "deg = 0.5\n",
    "\"\"\"\n",
    "\"\"\"\n",
    "filter = 'cheby2'\n",
    "filter_type = 'highpass'\n",
    "Watt = 150\n",
    "Wpass = 300\n",
    "Gp = -3\n",
    "Ga = -50\n",
    "deg = 0.5\n",
    "\"\"\"\n",
    "\"\"\"\n",
    "filter = 'cheby2'\n",
    "filter_type = 'bandpass'\n",
    "Watt = [100,350]\n",
    "Wpass = [10,300]\n",
    "Gp = -3\n",
    "Ga = -50\n",
    "deg = 0.5\n",
    "\"\"\"\n",
    "\n",
    "filter = 'cheby2'\n",
    "filter_type = 'bandstop'\n",
    "Wpass = [2*np.pi*(37e3-5e3),2*np.pi*(37e3+5e3)]\n",
    "Watt = [2*np.pi*(37e3-300),2*np.pi*(37e3+300)]\n",
    "Gp = -6\n",
    "Ga = -40\n",
    "deg = 0.5\n",
    "\n",
    "\n",
    "order, Wn = get_min_order(filter, Wpass, Watt, -Gp, -Ga)\n",
    "\n",
    "b, a = get_filter(filter,filter_type, order, Wn,  Wpass, Watt, Gp,Ga,0.5)\n",
    "return_p_z(b,a)\n",
    "graph_filter('attenuation',filter,filter_type, order, Wpass, Watt, Gp,Ga,0.5,b,a)\n",
    "print(signal.TransferFunction(b,a))\n"
   ]
  }
 ],
 "metadata": {
  "kernelspec": {
   "display_name": "Python 3.10.5 64-bit",
   "language": "python",
   "name": "python3"
  },
  "language_info": {
   "codemirror_mode": {
    "name": "ipython",
    "version": 3
   },
   "file_extension": ".py",
   "mimetype": "text/x-python",
   "name": "python",
   "nbconvert_exporter": "python",
   "pygments_lexer": "ipython3",
   "version": "3.10.5"
  },
  "orig_nbformat": 4,
  "vscode": {
   "interpreter": {
    "hash": "26de051ba29f2982a8de78e945f0abaf191376122a1563185a90213a26c5da77"
   }
  }
 },
 "nbformat": 4,
 "nbformat_minor": 2
}
