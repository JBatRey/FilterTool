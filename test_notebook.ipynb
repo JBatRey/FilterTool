{
 "cells": [
  {
   "cell_type": "code",
   "execution_count": 1,
   "metadata": {},
   "outputs": [
    {
     "name": "stdout",
     "output_type": "stream",
     "text": [
      "10 9\n",
      "11 10\n",
      "13 12\n",
      "8 11\n"
     ]
    },
    {
     "data": {
      "image/png": "[encoded data removed]",
      "text/plain": [
       "<Figure size 432x288 with 1 Axes>"
      ]
     },
     "metadata": {
      "needs_background": "light"
     },
     "output_type": "display_data"
    },
    {
     "name": "stdout",
     "output_type": "stream",
     "text": [
      "poles:\n",
      "wo=298.5688547112201; xi= 0.013829956862205502; Q= 36.153402717140764\n",
      "wo=298.5688547112201; xi= 0.013829956862205502; Q= 36.153402717140764\n",
      "wo=266.0675717903396; xi= 0.05633852462914009; Q= 8.874921792704951\n",
      "wo=266.0675717903396; xi= 0.05633852462914009; Q= 8.874921792704951\n",
      "wo=199.12108665744438; xi= 0.09444600071096929; Q= 5.294030411410827\n",
      "wo=199.12108665744438; xi= 0.09444600071096929; Q= 5.294030411410827\n",
      "wo=149.019314472819; xi= 0.05633852462912325; Q= 8.874921792707605\n",
      "wo=149.019314472819; xi= 0.05633852462912325; Q= 8.874921792707605\n",
      "wo=132.797532381572; xi= 0.013829956862217711; Q= 36.153402717108854\n",
      "wo=132.797532381572; xi= 0.013829956862217711; Q= 36.153402717108854\n",
      "zeros:\n"
     ]
    },
    {
     "name": "stderr",
     "output_type": "stream",
     "text": [
      "c:\\Users\\joaco\\Documents\\Station\\FilterTool\\backend.py:460: RuntimeWarning: invalid value encountered in double_scalars\n",
      "  zeros = [[abs(x), -x.real / abs(x)] for x in z]\n"
     ]
    },
    {
     "ename": "ZeroDivisionError",
     "evalue": "division by zero",
     "output_type": "error",
     "traceback": [
      "\u001b[1;31m---------------------------------------------------------------------------\u001b[0m",
      "\u001b[1;31mZeroDivisionError\u001b[0m                         Traceback (most recent call last)",
      "\u001b[1;32m~\\AppData\\Local\\Temp/ipykernel_11288/486279497.py\u001b[0m in \u001b[0;36m<module>\u001b[1;34m\u001b[0m\n\u001b[0;32m     51\u001b[0m \u001b[1;33m\u001b[0m\u001b[0m\n\u001b[0;32m     52\u001b[0m \u001b[0mb\u001b[0m\u001b[1;33m,\u001b[0m \u001b[0ma\u001b[0m \u001b[1;33m=\u001b[0m \u001b[0mget_filter\u001b[0m\u001b[1;33m(\u001b[0m\u001b[0mfilter\u001b[0m\u001b[1;33m,\u001b[0m\u001b[0mfilter_type\u001b[0m\u001b[1;33m,\u001b[0m \u001b[0morder\u001b[0m\u001b[1;33m,\u001b[0m \u001b[0mWn\u001b[0m\u001b[1;33m,\u001b[0m  \u001b[0mWpass\u001b[0m\u001b[1;33m,\u001b[0m \u001b[0mWatt\u001b[0m\u001b[1;33m,\u001b[0m \u001b[0mGp\u001b[0m\u001b[1;33m,\u001b[0m\u001b[0mGa\u001b[0m\u001b[1;33m,\u001b[0m\u001b[1;36m0.5\u001b[0m\u001b[1;33m)\u001b[0m\u001b[1;33m\u001b[0m\u001b[1;33m\u001b[0m\u001b[0m\n\u001b[1;32m---> 53\u001b[1;33m \u001b[0mreturn_p_z\u001b[0m\u001b[1;33m(\u001b[0m\u001b[0mb\u001b[0m\u001b[1;33m,\u001b[0m\u001b[0ma\u001b[0m\u001b[1;33m)\u001b[0m\u001b[1;33m\u001b[0m\u001b[1;33m\u001b[0m\u001b[0m\n\u001b[0m\u001b[0;32m     54\u001b[0m \u001b[0mgraph_filter\u001b[0m\u001b[1;33m(\u001b[0m\u001b[1;34m'attenuation'\u001b[0m\u001b[1;33m,\u001b[0m\u001b[0mfilter\u001b[0m\u001b[1;33m,\u001b[0m\u001b[0mfilter_type\u001b[0m\u001b[1;33m,\u001b[0m \u001b[0morder\u001b[0m\u001b[1;33m,\u001b[0m \u001b[0mWpass\u001b[0m\u001b[1;33m,\u001b[0m \u001b[0mWatt\u001b[0m\u001b[1;33m,\u001b[0m \u001b[0mGp\u001b[0m\u001b[1;33m,\u001b[0m\u001b[0mGa\u001b[0m\u001b[1;33m,\u001b[0m\u001b[1;36m0.5\u001b[0m\u001b[1;33m,\u001b[0m\u001b[0mb\u001b[0m\u001b[1;33m,\u001b[0m\u001b[0ma\u001b[0m\u001b[1;33m)\u001b[0m\u001b[1;33m\u001b[0m\u001b[1;33m\u001b[0m\u001b[0m\n\u001b[0;32m     55\u001b[0m \u001b[0mprint\u001b[0m\u001b[1;33m(\u001b[0m\u001b[0msignal\u001b[0m\u001b[1;33m.\u001b[0m\u001b[0mTransferFunction\u001b[0m\u001b[1;33m(\u001b[0m\u001b[0mb\u001b[0m\u001b[1;33m,\u001b[0m\u001b[0ma\u001b[0m\u001b[1;33m)\u001b[0m\u001b[1;33m)\u001b[0m\u001b[1;33m\u001b[0m\u001b[1;33m\u001b[0m\u001b[0m\n",
      "\u001b[1;32mc:\\Users\\joaco\\Documents\\Station\\FilterTool\\backend.py\u001b[0m in \u001b[0;36mreturn_p_z\u001b[1;34m(b, a)\u001b[0m\n\u001b[0;32m    465\u001b[0m         \u001b[1;32mif\u001b[0m \u001b[0mxi\u001b[0m \u001b[1;33m<\u001b[0m \u001b[1;36m1e-15\u001b[0m\u001b[1;33m:\u001b[0m\u001b[1;33m\u001b[0m\u001b[1;33m\u001b[0m\u001b[0m\n\u001b[0;32m    466\u001b[0m             \u001b[0mxi\u001b[0m \u001b[1;33m=\u001b[0m \u001b[1;36m0\u001b[0m\u001b[1;33m\u001b[0m\u001b[1;33m\u001b[0m\u001b[0m\n\u001b[1;32m--> 467\u001b[1;33m         \u001b[0mQ\u001b[0m \u001b[1;33m=\u001b[0m \u001b[1;36m1\u001b[0m \u001b[1;33m/\u001b[0m \u001b[1;33m(\u001b[0m\u001b[1;36m2\u001b[0m \u001b[1;33m*\u001b[0m \u001b[0mxi\u001b[0m\u001b[1;33m)\u001b[0m\u001b[1;33m\u001b[0m\u001b[1;33m\u001b[0m\u001b[0m\n\u001b[0m\u001b[0;32m    468\u001b[0m         \u001b[1;32mif\u001b[0m \u001b[0mQ\u001b[0m \u001b[1;33m>\u001b[0m \u001b[1;36m1e14\u001b[0m\u001b[1;33m:\u001b[0m\u001b[1;33m\u001b[0m\u001b[1;33m\u001b[0m\u001b[0m\n\u001b[0;32m    469\u001b[0m             \u001b[0mQ\u001b[0m \u001b[1;33m=\u001b[0m \u001b[0mnp\u001b[0m\u001b[1;33m.\u001b[0m\u001b[0minf\u001b[0m\u001b[1;33m\u001b[0m\u001b[1;33m\u001b[0m\u001b[0m\n",
      "\u001b[1;31mZeroDivisionError\u001b[0m: division by zero"
     ]
    }
   ],
   "source": [
    "from backend import *\n",
    "\n",
    "\"\"\" \n",
    "\n",
    "    Tipos de filtro:\n",
    "    \n",
    "    'butter'\n",
    "    'cheby'\n",
    "    'cheby2'\n",
    "    'cauer'\n",
    "\"\"\"\n",
    "\n",
    "\"\"\"\n",
    "filter = 'cheby2'\n",
    "filter_type = 'lowpass'\n",
    "Wpass = 150\n",
    "Watt = 300\n",
    "Gp = -3\n",
    "Ga = -50\n",
    "deg = 0.5\n",
    "\"\"\"\n",
    "\"\"\"\n",
    "filter = 'cheby2'\n",
    "filter_type = 'highpass'\n",
    "Watt = 150\n",
    "Wpass = 300\n",
    "Gp = -3\n",
    "Ga = -50\n",
    "deg = 0.5\n",
    "\"\"\"\n",
    "\"\"\"\n",
    "filter = 'cheby2'\n",
    "filter_type = 'bandpass'\n",
    "Watt = [100,350]\n",
    "Wpass = [10,300]\n",
    "Gp = -3\n",
    "Ga = -50\n",
    "deg = 0.5\n",
    "\"\"\"\n",
    "\n",
    "filter = 'cauer'\n",
    "filter_type = 'bandpass'\n",
    "Watt = [100,350]\n",
    "Wpass = [150,300]\n",
    "Gp = -3\n",
    "Ga = -50\n",
    "deg = 0.5\n",
    "\n",
    "\n",
    "order, Wn = get_min_order(filter, Wpass, Watt, -Gp, -Ga)\n",
    "\n",
    "b, a = get_filter(filter,filter_type, order, Wn,  Wpass, Watt, Gp,Ga,0.5)\n",
    "return_p_z(b,a)\n",
    "graph_filter('attenuation',filter,filter_type, order, Wpass, Watt, Gp,Ga,0.5,b,a)\n",
    "print(signal.TransferFunction(b,a))\n"
   ]
  }
 ],
 "metadata": {
  "kernelspec": {
   "display_name": "Python 3.8.3 32-bit",
   "language": "python",
   "name": "python3"
  },
  "language_info": {
   "codemirror_mode": {
    "name": "ipython",
    "version": 3
   },
   "file_extension": ".py",
   "mimetype": "text/x-python",
   "name": "python",
   "nbconvert_exporter": "python",
   "pygments_lexer": "ipython3",
   "version": "3.8.3"
  },
  "orig_nbformat": 4,
  "vscode": {
   "interpreter": {
    "hash": "0898483af9015ba440d35ac082e2617047462836736e98cf0725f9b6b477745e"
   }
  }
 },
 "nbformat": 4,
 "nbformat_minor": 2
}
