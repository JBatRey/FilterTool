{
 "cells": [
  {
   "cell_type": "code",
   "execution_count": null,
   "metadata": {},
   "outputs": [],
   "source": [
    "from cmath import pi\n",
    "from backend import *\n",
    "import numpy as np\n",
    "\n",
    "\"\"\" \n",
    "\n",
    "    Tipos de filtro:\n",
    "    \n",
    "    'butter'\n",
    "    'cheby'\n",
    "    'cheby2'\n",
    "    'cauer'\n",
    "\"\"\"\n",
    "\n",
    "\"\"\"\n",
    "filter = 'cheby2'\n",
    "filter_type = 'lowpass'\n",
    "Wpass = 150\n",
    "Watt = 300\n",
    "Gp = -3\n",
    "Ga = -50\n",
    "deg = 0.5\n",
    "\"\"\"\n",
    "\"\"\"\n",
    "filter = 'cheby2'\n",
    "filter_type = 'highpass'\n",
    "Watt = 150\n",
    "Wpass = 300\n",
    "Gp = -3\n",
    "Ga = -50\n",
    "deg = 0.5\n",
    "\"\"\"\n",
    "\"\"\"\n",
    "filter = 'cheby2'\n",
    "filter_type = 'bandpass'\n",
    "Watt = [100,350]\n",
    "Wpass = [10,300]\n",
    "Gp = -3\n",
    "Ga = -50\n",
    "deg = 0.5\n",
    "\"\"\"\n",
    "\n",
    "filter = 'cheby2'\n",
    "filter_type = 'bandstop'\n",
    "Wpass = [2*np.pi*(37e3-5e3),2*np.pi*(37e3+5e3)]\n",
    "Watt = [2*np.pi*(37e3-300),2*np.pi*(37e3+300)]\n",
    "Gp = -6\n",
    "Ga = -50\n",
    "den = 1\n",
    "\n",
    "order, Wn = get_min_order(filter, Wpass, Watt, -Gp, -Ga)\n",
    "\n",
    "b, a = get_filter(filter,filter_type, order, Wn,  Wpass, Watt, Gp,Ga,den)\n",
    "return_p_z(b,a)\n",
    "\n",
    "\"\"\"Hay que elegir entre el grafico d etoda la vida, o de atenuación (al revés)\n",
    "los parametros son 'attenuation' y 'standard' \"\"\"\n",
    "graph_filter('standard',filter,filter_type, order, Wpass, Watt, Gp,Ga,0.5,b,a)\n",
    "print(signal.TransferFunction(b,a))\n",
    "\n"
   ]
  }
 ],
 "metadata": {
  "kernelspec": {
   "display_name": "Python 3.10.5 64-bit",
   "language": "python",
   "name": "python3"
  },
  "language_info": {
   "codemirror_mode": {
    "name": "ipython",
    "version": 3
   },
   "file_extension": ".py",
   "mimetype": "text/x-python",
   "name": "python",
   "nbconvert_exporter": "python",
   "pygments_lexer": "ipython3",
   "version": "3.10.5"
  },
  "orig_nbformat": 4,
  "vscode": {
   "interpreter": {
    "hash": "26de051ba29f2982a8de78e945f0abaf191376122a1563185a90213a26c5da77"
   }
  }
 },
 "nbformat": 4,
 "nbformat_minor": 2
}
